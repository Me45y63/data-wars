{
 "cells": [
  {
   "cell_type": "markdown",
   "id": "277a066b",
   "metadata": {
    "papermill": {
     "duration": 0.007297,
     "end_time": "2023-07-22T11:36:55.356543",
     "exception": false,
     "start_time": "2023-07-22T11:36:55.349246",
     "status": "completed"
    },
    "tags": []
   },
   "source": [
    "**This notebook is an exercise in the [Introduction to Machine Learning](https://www.kaggle.com/learn/intro-to-machine-learning) course.  You can reference the tutorial at [this link](https://www.kaggle.com/dansbecker/your-first-machine-learning-model).**\n",
    "\n",
    "---\n"
   ]
  },
  {
   "cell_type": "markdown",
   "id": "cc3b1622",
   "metadata": {
    "papermill": {
     "duration": 0.00712,
     "end_time": "2023-07-22T11:36:55.370663",
     "exception": false,
     "start_time": "2023-07-22T11:36:55.363543",
     "status": "completed"
    },
    "tags": []
   },
   "source": [
    "## Recap\n",
    "So far, you have loaded your data and reviewed it with the following code. Run this cell to set up your coding environment where the previous step left off."
   ]
  },
  {
   "cell_type": "code",
   "execution_count": 1,
   "id": "9ca73e89",
   "metadata": {
    "execution": {
     "iopub.execute_input": "2023-07-22T11:36:55.387310Z",
     "iopub.status.busy": "2023-07-22T11:36:55.386472Z",
     "iopub.status.idle": "2023-07-22T11:36:57.160437Z",
     "shell.execute_reply": "2023-07-22T11:36:57.159198Z"
    },
    "papermill": {
     "duration": 1.785414,
     "end_time": "2023-07-22T11:36:57.163057",
     "exception": false,
     "start_time": "2023-07-22T11:36:55.377643",
     "status": "completed"
    },
    "tags": []
   },
   "outputs": [
    {
     "name": "stderr",
     "output_type": "stream",
     "text": [
      "/opt/conda/lib/python3.10/site-packages/scipy/__init__.py:146: UserWarning: A NumPy version >=1.16.5 and <1.23.0 is required for this version of SciPy (detected version 1.23.5\n",
      "  warnings.warn(f\"A NumPy version >={np_minversion} and <{np_maxversion}\"\n"
     ]
    },
    {
     "name": "stdout",
     "output_type": "stream",
     "text": [
      "Setup Complete\n"
     ]
    }
   ],
   "source": [
    "# Code you have previously used to load data\n",
    "import pandas as pd\n",
    "\n",
    "# Path of the file to read\n",
    "iowa_file_path = '../input/home-data-for-ml-course/train.csv'\n",
    "\n",
    "home_data = pd.read_csv(iowa_file_path)\n",
    "\n",
    "# Set up code checking\n",
    "from learntools.core import binder\n",
    "binder.bind(globals())\n",
    "from learntools.machine_learning.ex3 import *\n",
    "\n",
    "print(\"Setup Complete\")"
   ]
  },
  {
   "cell_type": "markdown",
   "id": "77e08bec",
   "metadata": {
    "papermill": {
     "duration": 0.006756,
     "end_time": "2023-07-22T11:36:57.176985",
     "exception": false,
     "start_time": "2023-07-22T11:36:57.170229",
     "status": "completed"
    },
    "tags": []
   },
   "source": [
    "# Exercises\n",
    "\n",
    "## Step 1: Specify Prediction Target\n",
    "Select the target variable, which corresponds to the sales price. Save this to a new variable called `y`. You'll need to print a list of the columns to find the name of the column you need.\n"
   ]
  },
  {
   "cell_type": "code",
   "execution_count": 2,
   "id": "ec56db1f",
   "metadata": {
    "execution": {
     "iopub.execute_input": "2023-07-22T11:36:57.193245Z",
     "iopub.status.busy": "2023-07-22T11:36:57.192494Z",
     "iopub.status.idle": "2023-07-22T11:36:57.200123Z",
     "shell.execute_reply": "2023-07-22T11:36:57.199341Z"
    },
    "papermill": {
     "duration": 0.018362,
     "end_time": "2023-07-22T11:36:57.202323",
     "exception": false,
     "start_time": "2023-07-22T11:36:57.183961",
     "status": "completed"
    },
    "tags": []
   },
   "outputs": [
    {
     "data": {
      "text/plain": [
       "Index(['Id', 'MSSubClass', 'MSZoning', 'LotFrontage', 'LotArea', 'Street',\n",
       "       'Alley', 'LotShape', 'LandContour', 'Utilities', 'LotConfig',\n",
       "       'LandSlope', 'Neighborhood', 'Condition1', 'Condition2', 'BldgType',\n",
       "       'HouseStyle', 'OverallQual', 'OverallCond', 'YearBuilt', 'YearRemodAdd',\n",
       "       'RoofStyle', 'RoofMatl', 'Exterior1st', 'Exterior2nd', 'MasVnrType',\n",
       "       'MasVnrArea', 'ExterQual', 'ExterCond', 'Foundation', 'BsmtQual',\n",
       "       'BsmtCond', 'BsmtExposure', 'BsmtFinType1', 'BsmtFinSF1',\n",
       "       'BsmtFinType2', 'BsmtFinSF2', 'BsmtUnfSF', 'TotalBsmtSF', 'Heating',\n",
       "       'HeatingQC', 'CentralAir', 'Electrical', '1stFlrSF', '2ndFlrSF',\n",
       "       'LowQualFinSF', 'GrLivArea', 'BsmtFullBath', 'BsmtHalfBath', 'FullBath',\n",
       "       'HalfBath', 'BedroomAbvGr', 'KitchenAbvGr', 'KitchenQual',\n",
       "       'TotRmsAbvGrd', 'Functional', 'Fireplaces', 'FireplaceQu', 'GarageType',\n",
       "       'GarageYrBlt', 'GarageFinish', 'GarageCars', 'GarageArea', 'GarageQual',\n",
       "       'GarageCond', 'PavedDrive', 'WoodDeckSF', 'OpenPorchSF',\n",
       "       'EnclosedPorch', '3SsnPorch', 'ScreenPorch', 'PoolArea', 'PoolQC',\n",
       "       'Fence', 'MiscFeature', 'MiscVal', 'MoSold', 'YrSold', 'SaleType',\n",
       "       'SaleCondition', 'SalePrice'],\n",
       "      dtype='object')"
      ]
     },
     "execution_count": 2,
     "metadata": {},
     "output_type": "execute_result"
    }
   ],
   "source": [
    "# print the list of columns in the dataset to find the name of the prediction target\n",
    "home_data.columns"
   ]
  },
  {
   "cell_type": "code",
   "execution_count": 3,
   "id": "83a63c19",
   "metadata": {
    "execution": {
     "iopub.execute_input": "2023-07-22T11:36:57.220221Z",
     "iopub.status.busy": "2023-07-22T11:36:57.219739Z",
     "iopub.status.idle": "2023-07-22T11:36:57.236442Z",
     "shell.execute_reply": "2023-07-22T11:36:57.235224Z"
    },
    "papermill": {
     "duration": 0.02767,
     "end_time": "2023-07-22T11:36:57.238774",
     "exception": false,
     "start_time": "2023-07-22T11:36:57.211104",
     "status": "completed"
    },
    "tags": []
   },
   "outputs": [
    {
     "data": {
      "application/javascript": [
       "parent.postMessage({\"jupyterEvent\": \"custom.exercise_interaction\", \"data\": {\"outcomeType\": 1, \"valueTowardsCompletion\": 0.25, \"interactionType\": 1, \"questionType\": 2, \"questionId\": \"1_SetTarget\", \"learnToolsVersion\": \"0.3.4\", \"failureMessage\": \"\", \"exceptionClass\": \"\", \"trace\": \"\"}}, \"*\")"
      ],
      "text/plain": [
       "<IPython.core.display.Javascript object>"
      ]
     },
     "metadata": {},
     "output_type": "display_data"
    },
    {
     "data": {
      "text/markdown": [
       "<span style=\"color:#33cc33\">Correct</span>"
      ],
      "text/plain": [
       "Correct"
      ]
     },
     "metadata": {},
     "output_type": "display_data"
    }
   ],
   "source": [
    "y = home_data['SalePrice']\n",
    "\n",
    "# Check your answer\n",
    "step_1.check()"
   ]
  },
  {
   "cell_type": "code",
   "execution_count": 4,
   "id": "05a14e50",
   "metadata": {
    "collapsed": true,
    "execution": {
     "iopub.execute_input": "2023-07-22T11:36:57.257272Z",
     "iopub.status.busy": "2023-07-22T11:36:57.256403Z",
     "iopub.status.idle": "2023-07-22T11:36:57.261500Z",
     "shell.execute_reply": "2023-07-22T11:36:57.260469Z"
    },
    "jupyter": {
     "outputs_hidden": true
    },
    "papermill": {
     "duration": 0.017691,
     "end_time": "2023-07-22T11:36:57.263917",
     "exception": false,
     "start_time": "2023-07-22T11:36:57.246226",
     "status": "completed"
    },
    "tags": []
   },
   "outputs": [],
   "source": [
    "# The lines below will show you a hint or the solution.\n",
    "# step_1.hint() \n",
    "# step_1.solution()"
   ]
  },
  {
   "cell_type": "markdown",
   "id": "bcee95ad",
   "metadata": {
    "papermill": {
     "duration": 0.007178,
     "end_time": "2023-07-22T11:36:57.278689",
     "exception": false,
     "start_time": "2023-07-22T11:36:57.271511",
     "status": "completed"
    },
    "tags": []
   },
   "source": [
    "## Step 2: Create X\n",
    "Now you will create a DataFrame called `X` holding the predictive features.\n",
    "\n",
    "Since you want only some columns from the original data, you'll first create a list with the names of the columns you want in `X`.\n",
    "\n",
    "You'll use just the following columns in the list (you can copy and paste the whole list to save some typing, though you'll still need to add quotes):\n",
    "  * LotArea\n",
    "  * YearBuilt\n",
    "  * 1stFlrSF\n",
    "  * 2ndFlrSF\n",
    "  * FullBath\n",
    "  * BedroomAbvGr\n",
    "  * TotRmsAbvGrd\n",
    "\n",
    "After you've created that list of features, use it to create the DataFrame that you'll use to fit the model."
   ]
  },
  {
   "cell_type": "code",
   "execution_count": 5,
   "id": "4c63b91e",
   "metadata": {
    "execution": {
     "iopub.execute_input": "2023-07-22T11:36:57.296430Z",
     "iopub.status.busy": "2023-07-22T11:36:57.295184Z",
     "iopub.status.idle": "2023-07-22T11:36:57.313209Z",
     "shell.execute_reply": "2023-07-22T11:36:57.312156Z"
    },
    "papermill": {
     "duration": 0.029228,
     "end_time": "2023-07-22T11:36:57.315626",
     "exception": false,
     "start_time": "2023-07-22T11:36:57.286398",
     "status": "completed"
    },
    "tags": []
   },
   "outputs": [
    {
     "data": {
      "application/javascript": [
       "parent.postMessage({\"jupyterEvent\": \"custom.exercise_interaction\", \"data\": {\"outcomeType\": 1, \"valueTowardsCompletion\": 0.25, \"interactionType\": 1, \"questionType\": 2, \"questionId\": \"2_SelectPredictionData\", \"learnToolsVersion\": \"0.3.4\", \"failureMessage\": \"\", \"exceptionClass\": \"\", \"trace\": \"\"}}, \"*\")"
      ],
      "text/plain": [
       "<IPython.core.display.Javascript object>"
      ]
     },
     "metadata": {},
     "output_type": "display_data"
    },
    {
     "data": {
      "text/markdown": [
       "<span style=\"color:#33cc33\">Correct</span>"
      ],
      "text/plain": [
       "Correct"
      ]
     },
     "metadata": {},
     "output_type": "display_data"
    }
   ],
   "source": [
    "# Create the list of features below\n",
    "feature_names = ['LotArea', 'YearBuilt', '1stFlrSF', '2ndFlrSF', 'FullBath', 'BedroomAbvGr', 'TotRmsAbvGrd']\n",
    "\n",
    "# Select data corresponding to features in feature_names\n",
    "X = home_data[feature_names]\n",
    "\n",
    "# Check your answer\n",
    "step_2.check()"
   ]
  },
  {
   "cell_type": "code",
   "execution_count": 6,
   "id": "88755879",
   "metadata": {
    "execution": {
     "iopub.execute_input": "2023-07-22T11:36:57.333726Z",
     "iopub.status.busy": "2023-07-22T11:36:57.332703Z",
     "iopub.status.idle": "2023-07-22T11:36:57.336796Z",
     "shell.execute_reply": "2023-07-22T11:36:57.336001Z"
    },
    "papermill": {
     "duration": 0.015649,
     "end_time": "2023-07-22T11:36:57.339100",
     "exception": false,
     "start_time": "2023-07-22T11:36:57.323451",
     "status": "completed"
    },
    "tags": []
   },
   "outputs": [],
   "source": [
    "# step_2.hint()\n",
    "# step_2.solution()"
   ]
  },
  {
   "cell_type": "markdown",
   "id": "8693a962",
   "metadata": {
    "papermill": {
     "duration": 0.007904,
     "end_time": "2023-07-22T11:36:57.354995",
     "exception": false,
     "start_time": "2023-07-22T11:36:57.347091",
     "status": "completed"
    },
    "tags": []
   },
   "source": [
    "## Review Data\n",
    "Before building a model, take a quick look at **X** to verify it looks sensible"
   ]
  },
  {
   "cell_type": "code",
   "execution_count": 7,
   "id": "06405430",
   "metadata": {
    "execution": {
     "iopub.execute_input": "2023-07-22T11:36:57.373527Z",
     "iopub.status.busy": "2023-07-22T11:36:57.372709Z",
     "iopub.status.idle": "2023-07-22T11:36:57.406635Z",
     "shell.execute_reply": "2023-07-22T11:36:57.405426Z"
    },
    "papermill": {
     "duration": 0.045887,
     "end_time": "2023-07-22T11:36:57.409102",
     "exception": false,
     "start_time": "2023-07-22T11:36:57.363215",
     "status": "completed"
    },
    "tags": []
   },
   "outputs": [
    {
     "name": "stdout",
     "output_type": "stream",
     "text": [
      "             LotArea    YearBuilt     1stFlrSF     2ndFlrSF     FullBath  \\\n",
      "count    1460.000000  1460.000000  1460.000000  1460.000000  1460.000000   \n",
      "mean    10516.828082  1971.267808  1162.626712   346.992466     1.565068   \n",
      "std      9981.264932    30.202904   386.587738   436.528436     0.550916   \n",
      "min      1300.000000  1872.000000   334.000000     0.000000     0.000000   \n",
      "25%      7553.500000  1954.000000   882.000000     0.000000     1.000000   \n",
      "50%      9478.500000  1973.000000  1087.000000     0.000000     2.000000   \n",
      "75%     11601.500000  2000.000000  1391.250000   728.000000     2.000000   \n",
      "max    215245.000000  2010.000000  4692.000000  2065.000000     3.000000   \n",
      "\n",
      "       BedroomAbvGr  TotRmsAbvGrd  \n",
      "count   1460.000000   1460.000000  \n",
      "mean       2.866438      6.517808  \n",
      "std        0.815778      1.625393  \n",
      "min        0.000000      2.000000  \n",
      "25%        2.000000      5.000000  \n",
      "50%        3.000000      6.000000  \n",
      "75%        3.000000      7.000000  \n",
      "max        8.000000     14.000000  \n"
     ]
    }
   ],
   "source": [
    "# Review data\n",
    "# print description or statistics from X\n",
    "print(X.describe())\n",
    "\n",
    "# print the top few lines\n",
    "#print(_)"
   ]
  },
  {
   "cell_type": "markdown",
   "id": "ce2bc26b",
   "metadata": {
    "papermill": {
     "duration": 0.007665,
     "end_time": "2023-07-22T11:36:57.424891",
     "exception": false,
     "start_time": "2023-07-22T11:36:57.417226",
     "status": "completed"
    },
    "tags": []
   },
   "source": [
    "## Step 3: Specify and Fit Model\n",
    "Create a `DecisionTreeRegressor` and save it iowa_model. Ensure you've done the relevant import from sklearn to run this command.\n",
    "\n",
    "Then fit the model you just created using the data in `X` and `y` that you saved above."
   ]
  },
  {
   "cell_type": "code",
   "execution_count": 8,
   "id": "df09e623",
   "metadata": {
    "execution": {
     "iopub.execute_input": "2023-07-22T11:36:57.443103Z",
     "iopub.status.busy": "2023-07-22T11:36:57.442391Z",
     "iopub.status.idle": "2023-07-22T11:36:57.464055Z",
     "shell.execute_reply": "2023-07-22T11:36:57.462723Z"
    },
    "papermill": {
     "duration": 0.033927,
     "end_time": "2023-07-22T11:36:57.466748",
     "exception": false,
     "start_time": "2023-07-22T11:36:57.432821",
     "status": "completed"
    },
    "tags": []
   },
   "outputs": [
    {
     "data": {
      "application/javascript": [
       "parent.postMessage({\"jupyterEvent\": \"custom.exercise_interaction\", \"data\": {\"outcomeType\": 1, \"valueTowardsCompletion\": 0.25, \"interactionType\": 1, \"questionType\": 2, \"questionId\": \"3_CreateModel\", \"learnToolsVersion\": \"0.3.4\", \"failureMessage\": \"\", \"exceptionClass\": \"\", \"trace\": \"\"}}, \"*\")"
      ],
      "text/plain": [
       "<IPython.core.display.Javascript object>"
      ]
     },
     "metadata": {},
     "output_type": "display_data"
    },
    {
     "data": {
      "text/markdown": [
       "<span style=\"color:#33cc33\">Correct</span>"
      ],
      "text/plain": [
       "Correct"
      ]
     },
     "metadata": {},
     "output_type": "display_data"
    }
   ],
   "source": [
    "from sklearn.tree import DecisionTreeRegressor\n",
    "#specify the model. \n",
    "#For model reproducibility, set a numeric value for random_state when specifying the model\n",
    "iowa_model = DecisionTreeRegressor(random_state=1)\n",
    "\n",
    "# Fit the model\n",
    "iowa_model.fit(X, y)\n",
    "\n",
    "# Check your answer\n",
    "step_3.check()"
   ]
  },
  {
   "cell_type": "code",
   "execution_count": 9,
   "id": "8981f52a",
   "metadata": {
    "execution": {
     "iopub.execute_input": "2023-07-22T11:36:57.486007Z",
     "iopub.status.busy": "2023-07-22T11:36:57.484896Z",
     "iopub.status.idle": "2023-07-22T11:36:57.495055Z",
     "shell.execute_reply": "2023-07-22T11:36:57.493899Z"
    },
    "papermill": {
     "duration": 0.022283,
     "end_time": "2023-07-22T11:36:57.497496",
     "exception": false,
     "start_time": "2023-07-22T11:36:57.475213",
     "status": "completed"
    },
    "tags": []
   },
   "outputs": [
    {
     "data": {
      "application/javascript": [
       "parent.postMessage({\"jupyterEvent\": \"custom.exercise_interaction\", \"data\": {\"interactionType\": 3, \"questionType\": 2, \"questionId\": \"3_CreateModel\", \"learnToolsVersion\": \"0.3.4\", \"valueTowardsCompletion\": 0.0, \"failureMessage\": \"\", \"exceptionClass\": \"\", \"trace\": \"\", \"outcomeType\": 4}}, \"*\")"
      ],
      "text/plain": [
       "<IPython.core.display.Javascript object>"
      ]
     },
     "metadata": {},
     "output_type": "display_data"
    },
    {
     "data": {
      "text/markdown": [
       "<span style=\"color:#33cc99\">Solution:</span> \n",
       "```python\n",
       "from sklearn.tree import DecisionTreeRegressor\n",
       "iowa_model = DecisionTreeRegressor(random_state=1)\n",
       "iowa_model.fit(X, y)\n",
       "```"
      ],
      "text/plain": [
       "Solution: \n",
       "```python\n",
       "from sklearn.tree import DecisionTreeRegressor\n",
       "iowa_model = DecisionTreeRegressor(random_state=1)\n",
       "iowa_model.fit(X, y)\n",
       "```"
      ]
     },
     "metadata": {},
     "output_type": "display_data"
    }
   ],
   "source": [
    "# step_3.hint()\n",
    "step_3.solution()"
   ]
  },
  {
   "cell_type": "markdown",
   "id": "960c54da",
   "metadata": {
    "papermill": {
     "duration": 0.008977,
     "end_time": "2023-07-22T11:36:57.515574",
     "exception": false,
     "start_time": "2023-07-22T11:36:57.506597",
     "status": "completed"
    },
    "tags": []
   },
   "source": [
    "## Step 4: Make Predictions\n",
    "Make predictions with the model's `predict` command using `X` as the data. Save the results to a variable called `predictions`."
   ]
  },
  {
   "cell_type": "code",
   "execution_count": 10,
   "id": "9d1a76c2",
   "metadata": {
    "execution": {
     "iopub.execute_input": "2023-07-22T11:36:57.535333Z",
     "iopub.status.busy": "2023-07-22T11:36:57.534908Z",
     "iopub.status.idle": "2023-07-22T11:36:57.550265Z",
     "shell.execute_reply": "2023-07-22T11:36:57.549176Z"
    },
    "papermill": {
     "duration": 0.028111,
     "end_time": "2023-07-22T11:36:57.552741",
     "exception": false,
     "start_time": "2023-07-22T11:36:57.524630",
     "status": "completed"
    },
    "tags": []
   },
   "outputs": [
    {
     "name": "stdout",
     "output_type": "stream",
     "text": [
      "[208500. 181500. 223500. ... 266500. 142125. 147500.]\n"
     ]
    },
    {
     "data": {
      "application/javascript": [
       "parent.postMessage({\"jupyterEvent\": \"custom.exercise_interaction\", \"data\": {\"outcomeType\": 1, \"valueTowardsCompletion\": 0.25, \"interactionType\": 1, \"questionType\": 2, \"questionId\": \"4_MakePredictions\", \"learnToolsVersion\": \"0.3.4\", \"failureMessage\": \"\", \"exceptionClass\": \"\", \"trace\": \"\"}}, \"*\")"
      ],
      "text/plain": [
       "<IPython.core.display.Javascript object>"
      ]
     },
     "metadata": {},
     "output_type": "display_data"
    },
    {
     "data": {
      "text/markdown": [
       "<span style=\"color:#33cc33\">Correct</span>"
      ],
      "text/plain": [
       "Correct"
      ]
     },
     "metadata": {},
     "output_type": "display_data"
    }
   ],
   "source": [
    "predictions = iowa_model.predict(X)\n",
    "print(predictions)\n",
    "\n",
    "# Check your answer\n",
    "step_4.check()"
   ]
  },
  {
   "cell_type": "code",
   "execution_count": 11,
   "id": "bc593759",
   "metadata": {
    "collapsed": true,
    "execution": {
     "iopub.execute_input": "2023-07-22T11:36:57.573020Z",
     "iopub.status.busy": "2023-07-22T11:36:57.572582Z",
     "iopub.status.idle": "2023-07-22T11:36:57.577142Z",
     "shell.execute_reply": "2023-07-22T11:36:57.575946Z"
    },
    "jupyter": {
     "outputs_hidden": true
    },
    "papermill": {
     "duration": 0.017805,
     "end_time": "2023-07-22T11:36:57.579651",
     "exception": false,
     "start_time": "2023-07-22T11:36:57.561846",
     "status": "completed"
    },
    "tags": []
   },
   "outputs": [],
   "source": [
    "# step_4.hint()\n",
    "# step_4.solution()"
   ]
  },
  {
   "cell_type": "markdown",
   "id": "98fb0cb8",
   "metadata": {
    "papermill": {
     "duration": 0.009338,
     "end_time": "2023-07-22T11:36:57.598388",
     "exception": false,
     "start_time": "2023-07-22T11:36:57.589050",
     "status": "completed"
    },
    "tags": []
   },
   "source": [
    "## Think About Your Results\n",
    "\n",
    "Use the `head` method to compare the top few predictions to the actual home values (in `y`) for those same homes. Anything surprising?\n"
   ]
  },
  {
   "cell_type": "code",
   "execution_count": 12,
   "id": "b13c1cfa",
   "metadata": {
    "execution": {
     "iopub.execute_input": "2023-07-22T11:36:57.619947Z",
     "iopub.status.busy": "2023-07-22T11:36:57.619544Z",
     "iopub.status.idle": "2023-07-22T11:36:57.628136Z",
     "shell.execute_reply": "2023-07-22T11:36:57.626938Z"
    },
    "papermill": {
     "duration": 0.022372,
     "end_time": "2023-07-22T11:36:57.630555",
     "exception": false,
     "start_time": "2023-07-22T11:36:57.608183",
     "status": "completed"
    },
    "tags": []
   },
   "outputs": [
    {
     "data": {
      "text/plain": [
       "0    208500\n",
       "1    181500\n",
       "2    223500\n",
       "3    140000\n",
       "4    250000\n",
       "Name: SalePrice, dtype: int64"
      ]
     },
     "execution_count": 12,
     "metadata": {},
     "output_type": "execute_result"
    }
   ],
   "source": [
    "# You can write code in this cell\n",
    "y.head()"
   ]
  },
  {
   "cell_type": "markdown",
   "id": "d814aba7",
   "metadata": {
    "papermill": {
     "duration": 0.009484,
     "end_time": "2023-07-22T11:36:57.649610",
     "exception": false,
     "start_time": "2023-07-22T11:36:57.640126",
     "status": "completed"
    },
    "tags": []
   },
   "source": [
    "It's natural to ask how accurate the model's predictions will be and how you can improve that. That will be you're next step.\n",
    "\n",
    "# Keep Going\n",
    "\n",
    "You are ready for **[Model Validation](https://www.kaggle.com/dansbecker/model-validation).**\n"
   ]
  },
  {
   "cell_type": "markdown",
   "id": "fdeb7660",
   "metadata": {
    "papermill": {
     "duration": 0.00901,
     "end_time": "2023-07-22T11:36:57.668004",
     "exception": false,
     "start_time": "2023-07-22T11:36:57.658994",
     "status": "completed"
    },
    "tags": []
   },
   "source": [
    "---\n",
    "\n",
    "\n",
    "\n",
    "\n",
    "*Have questions or comments? Visit the [course discussion forum](https://www.kaggle.com/learn/intro-to-machine-learning/discussion) to chat with other learners.*"
   ]
  }
 ],
 "metadata": {
  "kernelspec": {
   "display_name": "Python 3",
   "language": "python",
   "name": "python3"
  },
  "language_info": {
   "codemirror_mode": {
    "name": "ipython",
    "version": 3
   },
   "file_extension": ".py",
   "mimetype": "text/x-python",
   "name": "python",
   "nbconvert_exporter": "python",
   "pygments_lexer": "ipython3",
   "version": "3.10.12"
  },
  "papermill": {
   "default_parameters": {},
   "duration": 15.598057,
   "end_time": "2023-07-22T11:36:58.701918",
   "environment_variables": {},
   "exception": null,
   "input_path": "__notebook__.ipynb",
   "output_path": "__notebook__.ipynb",
   "parameters": {},
   "start_time": "2023-07-22T11:36:43.103861",
   "version": "2.4.0"
  }
 },
 "nbformat": 4,
 "nbformat_minor": 5
}
